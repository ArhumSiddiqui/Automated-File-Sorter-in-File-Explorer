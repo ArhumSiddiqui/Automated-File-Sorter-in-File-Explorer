{
 "cells": [
  {
   "cell_type": "code",
   "execution_count": 27,
   "id": "d3841957",
   "metadata": {},
   "outputs": [],
   "source": [
    "import os, shutil"
   ]
  },
  {
   "cell_type": "code",
   "execution_count": 28,
   "id": "a195cd2b",
   "metadata": {},
   "outputs": [],
   "source": [
    "path = r\"C:/Users/arham/Documents/School Stuff/\""
   ]
  },
  {
   "cell_type": "code",
   "execution_count": 36,
   "id": "117e7c7c",
   "metadata": {},
   "outputs": [
    {
     "data": {
      "text/plain": [
       "['excel_files',\n",
       " 'image_files',\n",
       " 'Poster Presentation print.pptx',\n",
       " 'text_files',\n",
       " 'video_files']"
      ]
     },
     "execution_count": 36,
     "metadata": {},
     "output_type": "execute_result"
    }
   ],
   "source": [
    "os.listdir(path)"
   ]
  },
  {
   "cell_type": "code",
   "execution_count": 32,
   "id": "ce4b84e7",
   "metadata": {},
   "outputs": [],
   "source": [
    "folder_names = ['excel_files', 'image_files', 'text_files', 'video_files']\n",
    "\n",
    "for loop in range(0,4):\n",
    "    if not os.path.exists(path + folder_names[loop]): \n",
    "        os.makedirs((path + folder_names[loop]))"
   ]
  },
  {
   "cell_type": "code",
   "execution_count": 34,
   "id": "967b89bf",
   "metadata": {},
   "outputs": [],
   "source": [
    "file_name = os.listdir(path)"
   ]
  },
  {
   "cell_type": "code",
   "execution_count": 35,
   "id": "b726443d",
   "metadata": {},
   "outputs": [],
   "source": [
    "for file in file_name: \n",
    "    if \".xlsx\" in file and not os.path.exists(path + \"excel_files/\" + file):\n",
    "        shutil.move(path + file, path + \"excel_files/\" + file) \n",
    "    elif \".docx\" in file and not os.path.exists(path + \"text_files/\" + file) or  (\".pdf\" in file and not os.path.exists(path + \"text_files/\" + file)) :\n",
    "        shutil.move(path + file, path + \"text_files/\" + file) \n",
    "    elif \".mp4\" in file and not os.path.exists(path + \"video_files/\" + file) or  (\".pdf\" in file and not os.path.exists(path + \"video_files/\" + file)) :\n",
    "        shutil.move(path + file, path + \"video_files/\" + file) \n",
    "    else: \n",
    "        print(\"There are files in this path that were not moved!\")\n",
    "        \n",
    "        "
   ]
  },
  {
   "cell_type": "code",
   "execution_count": null,
   "id": "e4879e52",
   "metadata": {},
   "outputs": [],
   "source": []
  }
 ],
 "metadata": {
  "kernelspec": {
   "display_name": "Python 3 (ipykernel)",
   "language": "python",
   "name": "python3"
  },
  "language_info": {
   "codemirror_mode": {
    "name": "ipython",
    "version": 3
   },
   "file_extension": ".py",
   "mimetype": "text/x-python",
   "name": "python",
   "nbconvert_exporter": "python",
   "pygments_lexer": "ipython3",
   "version": "3.9.13"
  }
 },
 "nbformat": 4,
 "nbformat_minor": 5
}
